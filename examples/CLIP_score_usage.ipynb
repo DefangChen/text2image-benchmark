{
 "cells": [
  {
   "cell_type": "code",
   "execution_count": 1,
   "id": "f6ca50d1",
   "metadata": {},
   "outputs": [],
   "source": [
    "import sys\n",
    "sys.path.append('../')\n",
    "\n",
    "from T2IBenchmark import calculate_clip_score\n",
    "from glob import glob"
   ]
  },
  {
   "cell_type": "markdown",
   "id": "45616736",
   "metadata": {},
   "source": [
    "**Prepare paths and captions**"
   ]
  },
  {
   "cell_type": "code",
   "execution_count": 2,
   "id": "014ef39a",
   "metadata": {},
   "outputs": [
    {
     "name": "stdout",
     "output_type": "stream",
     "text": [
      "5\n"
     ]
    }
   ],
   "source": [
    "cat_paths = glob('../assets/images/cats/*.jpg')\n",
    "print(len(cat_paths))"
   ]
  },
  {
   "cell_type": "code",
   "execution_count": 3,
   "id": "4f8e0a51",
   "metadata": {},
   "outputs": [],
   "source": [
    "captions_mapping = {path: \"a cat\" for path in cat_paths}"
   ]
  },
  {
   "cell_type": "markdown",
   "id": "c6c3c3c9",
   "metadata": {},
   "source": [
    "**Calculate CLIP score for cats**"
   ]
  },
  {
   "cell_type": "code",
   "execution_count": 4,
   "id": "ae192bc2",
   "metadata": {},
   "outputs": [
    {
     "name": "stderr",
     "output_type": "stream",
     "text": [
      "100%|██████████| 1/1 [00:01<00:00,  1.77s/it]"
     ]
    },
    {
     "name": "stdout",
     "output_type": "stream",
     "text": [
      "CLIP score is 0.26605501770973206\n"
     ]
    },
    {
     "name": "stderr",
     "output_type": "stream",
     "text": [
      "\n"
     ]
    }
   ],
   "source": [
    "clip_score = calculate_clip_score(cat_paths, captions_mapping=captions_mapping)"
   ]
  },
  {
   "cell_type": "markdown",
   "id": "15f12bcb",
   "metadata": {},
   "source": [
    "**Calculate CLIP score for dogs**"
   ]
  },
  {
   "cell_type": "code",
   "execution_count": 5,
   "id": "ff2c8e61",
   "metadata": {},
   "outputs": [],
   "source": [
    "dog_paths = glob('../assets/images/dogs/*.jpg')\n",
    "captions_mapping = {path: \"a cat\" for path in dog_paths}"
   ]
  },
  {
   "cell_type": "code",
   "execution_count": 6,
   "id": "5e3f64cc",
   "metadata": {},
   "outputs": [
    {
     "name": "stderr",
     "output_type": "stream",
     "text": [
      "100%|██████████| 1/1 [00:01<00:00,  1.68s/it]"
     ]
    },
    {
     "name": "stdout",
     "output_type": "stream",
     "text": [
      "CLIP score is 0.20217931270599365\n"
     ]
    },
    {
     "name": "stderr",
     "output_type": "stream",
     "text": [
      "\n"
     ]
    }
   ],
   "source": [
    "clip_score = calculate_clip_score(dog_paths, captions_mapping=captions_mapping)"
   ]
  },
  {
   "cell_type": "markdown",
   "id": "f1a9ca2a",
   "metadata": {},
   "source": [
    "CLIP score is lower because cats are not dogs :)"
   ]
  },
  {
   "cell_type": "code",
   "execution_count": null,
   "id": "63a7480f",
   "metadata": {},
   "outputs": [],
   "source": []
  }
 ],
 "metadata": {
  "kernelspec": {
   "display_name": "Python 3 (ipykernel)",
   "language": "python",
   "name": "python3"
  },
  "language_info": {
   "codemirror_mode": {
    "name": "ipython",
    "version": 3
   },
   "file_extension": ".py",
   "mimetype": "text/x-python",
   "name": "python",
   "nbconvert_exporter": "python",
   "pygments_lexer": "ipython3",
   "version": "3.7.12"
  }
 },
 "nbformat": 4,
 "nbformat_minor": 5
}
