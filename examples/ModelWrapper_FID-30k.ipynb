{
 "cells": [
  {
   "cell_type": "code",
   "execution_count": null,
   "id": "0a22693f",
   "metadata": {},
   "outputs": [],
   "source": [
    "!pip install -r ../T2IBenchmark/models/kandinsky21/requirements.txt"
   ]
  },
  {
   "cell_type": "code",
   "execution_count": null,
   "id": "08c37af2",
   "metadata": {},
   "outputs": [],
   "source": [
    "from T2IBenchmark import calculate_coco_fid\n",
    "from T2IBenchmark.models.kandinsky21 import Kandinsky21Wrapper"
   ]
  },
  {
   "cell_type": "markdown",
   "id": "4b4ba013",
   "metadata": {},
   "source": [
    "**T2IModelWrapper**\n",
    "\n",
    "To create a wrapper for your model and calculate FID-30K you simply need to inherit `T2IModelWrapper` class and implement `load_model` and `generate` methods. Example of wrapper for **Kandinsky 2.1** is listed below. You can find it in `T2IBenchmark/models/kandinsky21/wrapper.py`"
   ]
  },
  {
   "cell_type": "code",
   "execution_count": null,
   "id": "15bc8c5f",
   "metadata": {},
   "outputs": [],
   "source": [
    "import torch\n",
    "from PIL import Image\n",
    "from T2IBenchmark import T2IModelWrapper\n",
    "from kandinsky2 import get_kandinsky2\n",
    "\n",
    "\n",
    "class Kandinsky21Wrapper(T2IModelWrapper):\n",
    "    \n",
    "    def load_model(self, device: torch.device):\n",
    "        \"\"\"Initialize model here\"\"\"\n",
    "        self.model = get_kandinsky2(device, task_type='text2img', model_version='2.1', use_flash_attention=False)\n",
    "        \n",
    "    def generate(self, caption: str) -> Image.Image:\n",
    "        \"\"\"Generate PIL image for provided caption\"\"\"\n",
    "        images = self.model.generate_text2img(\n",
    "            caption, \n",
    "            num_steps=75,\n",
    "            batch_size=1, \n",
    "            guidance_scale=4,\n",
    "            h=768, w=768,\n",
    "            sampler='p_sampler', \n",
    "            prior_cf_scale=4,\n",
    "            prior_steps=\"5\"\n",
    "        )\n",
    "        return images[0]"
   ]
  },
  {
   "cell_type": "markdown",
   "id": "a9c34802",
   "metadata": {},
   "source": [
    "**Automatically calculate MS-COCO FID-30K**\n",
    "\n",
    "Generations will be saved in provided dir so you can use them later"
   ]
  },
  {
   "cell_type": "code",
   "execution_count": null,
   "id": "156bf7d3",
   "metadata": {},
   "outputs": [],
   "source": [
    "fid, fid_data = calculate_coco_fid(\n",
    "    Kandinsky21Wrapper,\n",
    "    device='cuda:0',\n",
    "    save_generations_dir='coco_generations/'\n",
    ")"
   ]
  }
 ],
 "metadata": {
  "kernelspec": {
   "display_name": "Python 3 (ipykernel)",
   "language": "python",
   "name": "python3"
  },
  "language_info": {
   "codemirror_mode": {
    "name": "ipython",
    "version": 3
   },
   "file_extension": ".py",
   "mimetype": "text/x-python",
   "name": "python",
   "nbconvert_exporter": "python",
   "pygments_lexer": "ipython3",
   "version": "3.7.12"
  }
 },
 "nbformat": 4,
 "nbformat_minor": 5
}
