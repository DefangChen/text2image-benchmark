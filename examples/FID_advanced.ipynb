{
 "cells": [
  {
   "cell_type": "code",
   "execution_count": 1,
   "id": "a10aa7dc",
   "metadata": {},
   "outputs": [],
   "source": [
    "import sys\n",
    "sys.path.append('../')\n",
    "from T2IBenchmark import calculate_fid"
   ]
  },
  {
   "cell_type": "markdown",
   "id": "a72ec990",
   "metadata": {},
   "source": [
    "List of parametes:"
   ]
  },
  {
   "cell_type": "code",
   "execution_count": 2,
   "id": "c206e71b",
   "metadata": {},
   "outputs": [
    {
     "name": "stdout",
     "output_type": "stream",
     "text": [
      "Help on function calculate_fid in module T2IBenchmark.pipelines:\n",
      "\n",
      "calculate_fid(input1: Union[str, List[str], T2IBenchmark.loaders.BaseImageLoader, T2IBenchmark.metrics.fid.FIDStats], input2: Union[str, List[str], T2IBenchmark.loaders.BaseImageLoader, T2IBenchmark.metrics.fid.FIDStats], device: torch.device = 'cuda', seed: Union[int, NoneType] = 42, batch_size: int = 128, dataloader_workers: int = 16, verbose: bool = True) -> (<class 'int'>, typing.Tuple[dict, dict])\n",
      "    Calculate the Frechet Inception Distance (FID) between two sets of images.\n",
      "    \n",
      "    Parameters\n",
      "    ----------\n",
      "    input1 : Union[str, List[str], BaseImageLoader]\n",
      "        The first set of images to compute the FID score for. This can either be\n",
      "        a path to directory, a path to .npz file, a list of image file paths, an instance\n",
      "        of BaseImageLoader or an instance of FIDStats.\n",
      "    input2 : Union[str, List[str], BaseImageLoader]\n",
      "        The second set of images to compute the FID score for. This can either be\n",
      "        a path to directory, a path to .npz file, a list of image file paths, an instance\n",
      "        of BaseImageLoader or an instance of FIDStats.\n",
      "    device : torch.device, optional, default='cuda'\n",
      "        The device to perform the calculations on, by default 'cuda'.\n",
      "    seed : int, optional, default=42\n",
      "        The seed value to ensure reproducibility, by default 42.\n",
      "    batch_size : int, optional, default=128\n",
      "        The batch size to use for processing the images, by default 128.\n",
      "    dataloader_workers : int, optional, default=16\n",
      "        The number of workers for data loading, by default 16.\n",
      "    verbose : bool, optional, default=True\n",
      "        Whether to print progress information, by default True.\n",
      "    \n",
      "    Returns\n",
      "    -------\n",
      "    int\n",
      "        The computed FID score.\n",
      "    Tuple[dict, dict]\n",
      "        Two dictionaries containing the features and statistics of input1 and input2, respectively.\n",
      "\n"
     ]
    }
   ],
   "source": [
    "help(calculate_fid)"
   ]
  },
  {
   "cell_type": "markdown",
   "id": "398e65d4",
   "metadata": {},
   "source": [
    "**Advanced usage:**"
   ]
  },
  {
   "cell_type": "code",
   "execution_count": 3,
   "id": "708e81fb",
   "metadata": {},
   "outputs": [
    {
     "name": "stdout",
     "output_type": "stream",
     "text": [
      "Processing: ImageDataset(5 items)\n"
     ]
    },
    {
     "name": "stderr",
     "output_type": "stream",
     "text": [
      "100%|██████████| 3/3 [00:00<00:00,  3.63it/s]\n"
     ]
    },
    {
     "name": "stdout",
     "output_type": "stream",
     "text": [
      "Processing: ImageDataset(5 items)\n"
     ]
    },
    {
     "name": "stderr",
     "output_type": "stream",
     "text": [
      "100%|██████████| 3/3 [00:00<00:00,  3.06it/s]\n"
     ]
    },
    {
     "name": "stdout",
     "output_type": "stream",
     "text": [
      "FID is 278.9133501791375\n"
     ]
    }
   ],
   "source": [
    "fid, fid_data = calculate_fid(\n",
    "    '../assets/images/cats/', \n",
    "    '../assets/images/dogs/',\n",
    "    seed=111,\n",
    "    batch_size=2,\n",
    "    dataloader_workers=8,\n",
    "    verbose=True\n",
    ")"
   ]
  },
  {
   "cell_type": "markdown",
   "id": "30c62c23",
   "metadata": {},
   "source": [
    "**Additional data**\n",
    "\n",
    "`fid_data` contains two dictionaries with calculated InceptionV3 features and statistics for every input. \n",
    "Index `0` refers to first input data and index `1` refers to second input data "
   ]
  },
  {
   "cell_type": "markdown",
   "id": "7e12c84d",
   "metadata": {},
   "source": [
    "Features and stats for `assets/images/cats/`:"
   ]
  },
  {
   "cell_type": "code",
   "execution_count": 4,
   "id": "a7892b1b",
   "metadata": {},
   "outputs": [
    {
     "name": "stdout",
     "output_type": "stream",
     "text": [
      "<class 'numpy.ndarray'> <class 'T2IBenchmark.metrics.fid.FIDStats'>\n",
      "Features shape: (5, 2048)\n",
      "FID stats: <T2IBenchmark.metrics.fid.FIDStats object at 0x7f66acb70b50>\n"
     ]
    }
   ],
   "source": [
    "print(type(fid_data[0]['features']), type(fid_data[0]['stats']))\n",
    "print('Features shape:', fid_data[0]['features'].shape) # features have shape (num_images, 2048)\n",
    "print('FID stats:', fid_data[0]['stats']) "
   ]
  },
  {
   "cell_type": "markdown",
   "id": "bce83a31",
   "metadata": {},
   "source": [
    "You can save FID stats to a `.npz` file and use them later to avoid feature re-calculation "
   ]
  },
  {
   "cell_type": "code",
   "execution_count": 5,
   "id": "c97c66a3",
   "metadata": {},
   "outputs": [],
   "source": [
    "cats_fid_stats = fid_data[0]['stats']\n",
    "cats_fid_stats.to_npz('cats_stats.npz')"
   ]
  },
  {
   "cell_type": "markdown",
   "id": "15af3bfc",
   "metadata": {},
   "source": [
    "**FID stats usage**"
   ]
  },
  {
   "cell_type": "code",
   "execution_count": 6,
   "id": "b108d96e",
   "metadata": {},
   "outputs": [],
   "source": [
    "from T2IBenchmark import FIDStats\n",
    "\n",
    "# loading saved FID stats\n",
    "cats_fid_stats = FIDStats.from_npz('cats_stats.npz')"
   ]
  },
  {
   "cell_type": "code",
   "execution_count": 7,
   "id": "4f67918e",
   "metadata": {},
   "outputs": [
    {
     "name": "stdout",
     "output_type": "stream",
     "text": [
      "Processing: <T2IBenchmark.metrics.fid.FIDStats object at 0x7f66a922b910>\n",
      "Processing: ImageDataset(5 items)\n"
     ]
    },
    {
     "name": "stderr",
     "output_type": "stream",
     "text": [
      "100%|██████████| 3/3 [00:00<00:00,  3.14it/s]\n"
     ]
    },
    {
     "name": "stdout",
     "output_type": "stream",
     "text": [
      "FID is 278.9133501791375\n"
     ]
    }
   ],
   "source": [
    "fid, _ = calculate_fid(\n",
    "    cats_fid_stats, \n",
    "    '../assets/images/dogs/',\n",
    "    seed=111,\n",
    "    batch_size=2,\n",
    "    dataloader_workers=8\n",
    ")"
   ]
  },
  {
   "cell_type": "code",
   "execution_count": null,
   "id": "545c9d67",
   "metadata": {},
   "outputs": [],
   "source": []
  }
 ],
 "metadata": {
  "kernelspec": {
   "display_name": "Python 3 (ipykernel)",
   "language": "python",
   "name": "python3"
  },
  "language_info": {
   "codemirror_mode": {
    "name": "ipython",
    "version": 3
   },
   "file_extension": ".py",
   "mimetype": "text/x-python",
   "name": "python",
   "nbconvert_exporter": "python",
   "pygments_lexer": "ipython3",
   "version": "3.7.12"
  }
 },
 "nbformat": 4,
 "nbformat_minor": 5
}
