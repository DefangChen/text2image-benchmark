{
 "cells": [
  {
   "cell_type": "code",
   "execution_count": 1,
   "id": "25399465",
   "metadata": {},
   "outputs": [],
   "source": [
    "import sys\n",
    "sys.path.append('../')\n",
    "from T2IBenchmark import calculate_fid"
   ]
  },
  {
   "cell_type": "markdown",
   "id": "cbbcb2a9",
   "metadata": {},
   "source": [
    "**Calculate FID between two directories**"
   ]
  },
  {
   "cell_type": "code",
   "execution_count": 2,
   "id": "8e192e4d",
   "metadata": {},
   "outputs": [
    {
     "name": "stdout",
     "output_type": "stream",
     "text": [
      "Processing: ImageDataset(5 items)\n"
     ]
    },
    {
     "name": "stderr",
     "output_type": "stream",
     "text": [
      "100%|██████████| 1/1 [00:01<00:00,  1.69s/it]\n"
     ]
    },
    {
     "name": "stdout",
     "output_type": "stream",
     "text": [
      "Processing: ImageDataset(5 items)\n"
     ]
    },
    {
     "name": "stderr",
     "output_type": "stream",
     "text": [
      "100%|██████████| 1/1 [00:01<00:00,  1.66s/it]\n"
     ]
    },
    {
     "name": "stdout",
     "output_type": "stream",
     "text": [
      "FID is 278.91635368118534\n"
     ]
    }
   ],
   "source": [
    "fid, _ = calculate_fid('../assets/images/cats/', '../assets/images/dogs/', verbose=True)"
   ]
  },
  {
   "cell_type": "markdown",
   "id": "3b02228c",
   "metadata": {},
   "source": [
    "**You can also pass a list of image paths instead of path to directory**"
   ]
  },
  {
   "cell_type": "code",
   "execution_count": 3,
   "id": "827a2cb7",
   "metadata": {},
   "outputs": [
    {
     "name": "stdout",
     "output_type": "stream",
     "text": [
      "5\n"
     ]
    }
   ],
   "source": [
    "from glob import glob\n",
    "\n",
    "image_paths = glob('../assets/images/cats/*.jpg')\n",
    "print(len(image_paths))"
   ]
  },
  {
   "cell_type": "code",
   "execution_count": 4,
   "id": "30231ed1",
   "metadata": {},
   "outputs": [
    {
     "name": "stdout",
     "output_type": "stream",
     "text": [
      "Processing: ImageDataset(5 items)\n"
     ]
    },
    {
     "name": "stderr",
     "output_type": "stream",
     "text": [
      "100%|██████████| 1/1 [00:01<00:00,  1.66s/it]\n"
     ]
    },
    {
     "name": "stdout",
     "output_type": "stream",
     "text": [
      "Processing: ImageDataset(5 items)\n"
     ]
    },
    {
     "name": "stderr",
     "output_type": "stream",
     "text": [
      "100%|██████████| 1/1 [00:01<00:00,  1.81s/it]\n"
     ]
    },
    {
     "name": "stdout",
     "output_type": "stream",
     "text": [
      "FID is 278.91635368118534\n"
     ]
    }
   ],
   "source": [
    "fid, _ = calculate_fid(image_paths, '../assets/images/dogs/', verbose=True)"
   ]
  },
  {
   "cell_type": "code",
   "execution_count": null,
   "id": "0d70ea26",
   "metadata": {},
   "outputs": [],
   "source": []
  }
 ],
 "metadata": {
  "kernelspec": {
   "display_name": "Python 3 (ipykernel)",
   "language": "python",
   "name": "python3"
  },
  "language_info": {
   "codemirror_mode": {
    "name": "ipython",
    "version": 3
   },
   "file_extension": ".py",
   "mimetype": "text/x-python",
   "name": "python",
   "nbconvert_exporter": "python",
   "pygments_lexer": "ipython3",
   "version": "3.7.12"
  }
 },
 "nbformat": 4,
 "nbformat_minor": 5
}
